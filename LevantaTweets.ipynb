{
 "cells": [
  {
   "cell_type": "code",
   "execution_count": 2,
   "metadata": {},
   "outputs": [],
   "source": [
    "\n",
    "import tweepy\n",
    "from tweepy import StreamListener\n",
    "from tweepy import Stream\n",
    "import time\n",
    "import pandas as pd\n",
    "import json\n",
    "\n",
    "\n",
    "\n",
    "auth = tweepy.OAuthHandler(consumer_key, consumer_secret)\n",
    "auth.set_access_token(access_token, access_token_secret)\n",
    "\n",
    "api = tweepy.API(auth, wait_on_rate_limit=True)\n",
    "\n",
    "\n"
   ]
  },
  {
   "cell_type": "code",
   "execution_count": 3,
   "metadata": {},
   "outputs": [
    {
     "data": {
      "text/plain": [
       "\"class CustomStreamListener(StreamListener):\\n\\n    def on_status(self, status): \\n        print( status.author.screen_name, status.created_at, status.text)\\n        with open('file.txt', 'w') as f: \\n                f.write('Author,Date,Text')\\n                \\n                f.write(str(status.author.screen_name)+str( status.created_at)+str( status.text))\\n\\n\\n    def on_error(self, status_code):\\n        print ( sys.stderr, 'Encountered error with status code:', status_code)\\n        return True # Don't kill the stream\\n\\n    def on_timeout(self):\\n        print ( sys.stderr, 'Timeout...')\\n        return True # Don't kill the stream\\n\\n\\n\\n\\nstreamingAPI = tweepy.streaming.Stream(auth, CustomStreamListener())\\nstreamingAPI.filter(track=['NocheDeLosMuseos'])\\n\""
      ]
     },
     "execution_count": 3,
     "metadata": {},
     "output_type": "execute_result"
    }
   ],
   "source": [
    "'''class CustomStreamListener(StreamListener):\n",
    "\n",
    "    def on_status(self, status): \n",
    "        print( status.author.screen_name, status.created_at, status.text)\n",
    "        with open('file.txt', 'w') as f: \n",
    "                f.write('Author,Date,Text')\n",
    "                \n",
    "                f.write(str(status.author.screen_name)+str( status.created_at)+str( status.text))\n",
    "\n",
    "\n",
    "    def on_error(self, status_code):\n",
    "        print ( sys.stderr, 'Encountered error with status code:', status_code)\n",
    "        return True # Don't kill the stream\n",
    "\n",
    "    def on_timeout(self):\n",
    "        print ( sys.stderr, 'Timeout...')\n",
    "        return True # Don't kill the stream\n",
    "\n",
    "\n",
    "\n",
    "\n",
    "streamingAPI = tweepy.streaming.Stream(auth, CustomStreamListener())\n",
    "streamingAPI.filter(track=['NocheDeLosMuseos'])\n",
    "'''"
   ]
  },
  {
   "cell_type": "code",
   "execution_count": 66,
   "metadata": {
    "scrolled": false
   },
   "outputs": [
    {
     "name": "stdout",
     "output_type": "stream",
     "text": [
      "1\n",
      "2\n",
      "3\n",
      "4\n",
      "5\n",
      "6\n",
      "7\n",
      "8\n",
      "9\n",
      "10\n",
      "11\n",
      "12\n",
      "13\n",
      "14\n",
      "15\n",
      "16\n",
      "17\n",
      "18\n",
      "19\n",
      "20\n",
      "21\n",
      "22\n",
      "23\n",
      "24\n",
      "25\n",
      "26\n",
      "27\n",
      "28\n",
      "29\n",
      "30\n",
      "31\n",
      "32\n",
      "33\n",
      "34\n",
      "35\n",
      "36\n",
      "37\n",
      "38\n",
      "39\n",
      "40\n",
      "41\n",
      "42\n",
      "43\n",
      "44\n",
      "45\n",
      "46\n",
      "47\n",
      "48\n",
      "49\n",
      "50\n",
      "51\n",
      "52\n",
      "53\n",
      "54\n",
      "55\n",
      "56\n",
      "57\n",
      "58\n",
      "59\n",
      "60\n",
      "61\n",
      "62\n",
      "63\n",
      "64\n",
      "65\n",
      "66\n",
      "67\n",
      "68\n",
      "69\n",
      "70\n",
      "71\n",
      "72\n",
      "73\n",
      "74\n",
      "75\n"
     ]
    },
    {
     "ename": "KeyboardInterrupt",
     "evalue": "",
     "output_type": "error",
     "traceback": [
      "\u001b[0;31m---------------------------------------------------------------------------\u001b[0m",
      "\u001b[0;31mKeyboardInterrupt\u001b[0m                         Traceback (most recent call last)",
      "\u001b[0;32m<ipython-input-66-874827b7e017>\u001b[0m in \u001b[0;36m<module>\u001b[0;34m()\u001b[0m\n\u001b[1;32m      6\u001b[0m     \u001b[0;31m#Archivo.write(str(tweet.author.screen_name)+'//'+str( tweet.created_at)+'//'+str(tweet.text)+'\\n\\n')\u001b[0m\u001b[0;34m\u001b[0m\u001b[0;34m\u001b[0m\u001b[0m\n\u001b[1;32m      7\u001b[0m     \u001b[0mretweets\u001b[0m\u001b[0;34m=\u001b[0m\u001b[0;34m[\u001b[0m\u001b[0;34m]\u001b[0m\u001b[0;34m\u001b[0m\u001b[0m\n\u001b[0;32m----> 8\u001b[0;31m     \u001b[0;32mfor\u001b[0m \u001b[0mretweet\u001b[0m \u001b[0;32min\u001b[0m \u001b[0mapi\u001b[0m\u001b[0;34m.\u001b[0m\u001b[0mretweets\u001b[0m\u001b[0;34m(\u001b[0m\u001b[0mtweet\u001b[0m\u001b[0;34m.\u001b[0m\u001b[0mid\u001b[0m\u001b[0;34m)\u001b[0m\u001b[0;34m:\u001b[0m\u001b[0;34m\u001b[0m\u001b[0m\n\u001b[0m\u001b[1;32m      9\u001b[0m         \u001b[0mretweets\u001b[0m\u001b[0;34m.\u001b[0m\u001b[0mappend\u001b[0m\u001b[0;34m(\u001b[0m\u001b[0;34m[\u001b[0m\u001b[0mretweet\u001b[0m\u001b[0;34m.\u001b[0m\u001b[0muser\u001b[0m\u001b[0;34m.\u001b[0m\u001b[0mid\u001b[0m\u001b[0;34m,\u001b[0m\u001b[0mtweet\u001b[0m\u001b[0;34m.\u001b[0m\u001b[0mauthor\u001b[0m\u001b[0;34m.\u001b[0m\u001b[0mid\u001b[0m\u001b[0;34m]\u001b[0m\u001b[0;34m)\u001b[0m\u001b[0;34m\u001b[0m\u001b[0m\n\u001b[1;32m     10\u001b[0m     datalinea={\"autor\":tweet.author.screen_name,\"autorid\":tweet.author.id,\"fecha\": str(tweet.created_at),\n",
      "\u001b[0;32m~/.local/lib/python3.5/site-packages/tweepy/binder.py\u001b[0m in \u001b[0;36m_call\u001b[0;34m(*args, **kwargs)\u001b[0m\n\u001b[1;32m    248\u001b[0m             \u001b[0;32mreturn\u001b[0m \u001b[0mmethod\u001b[0m\u001b[0;34m\u001b[0m\u001b[0m\n\u001b[1;32m    249\u001b[0m         \u001b[0;32melse\u001b[0m\u001b[0;34m:\u001b[0m\u001b[0;34m\u001b[0m\u001b[0m\n\u001b[0;32m--> 250\u001b[0;31m             \u001b[0;32mreturn\u001b[0m \u001b[0mmethod\u001b[0m\u001b[0;34m.\u001b[0m\u001b[0mexecute\u001b[0m\u001b[0;34m(\u001b[0m\u001b[0;34m)\u001b[0m\u001b[0;34m\u001b[0m\u001b[0m\n\u001b[0m\u001b[1;32m    251\u001b[0m \u001b[0;34m\u001b[0m\u001b[0m\n\u001b[1;32m    252\u001b[0m     \u001b[0;31m# Set pagination mode\u001b[0m\u001b[0;34m\u001b[0m\u001b[0;34m\u001b[0m\u001b[0m\n",
      "\u001b[0;32m~/.local/lib/python3.5/site-packages/tweepy/binder.py\u001b[0m in \u001b[0;36mexecute\u001b[0;34m(self)\u001b[0m\n\u001b[1;32m    162\u001b[0m                                     \u001b[0;32mif\u001b[0m \u001b[0mself\u001b[0m\u001b[0;34m.\u001b[0m\u001b[0mwait_on_rate_limit_notify\u001b[0m\u001b[0;34m:\u001b[0m\u001b[0;34m\u001b[0m\u001b[0m\n\u001b[1;32m    163\u001b[0m                                         \u001b[0mlog\u001b[0m\u001b[0;34m.\u001b[0m\u001b[0mwarning\u001b[0m\u001b[0;34m(\u001b[0m\u001b[0;34m\"Rate limit reached. Sleeping for: %d\"\u001b[0m \u001b[0;34m%\u001b[0m \u001b[0msleep_time\u001b[0m\u001b[0;34m)\u001b[0m\u001b[0;34m\u001b[0m\u001b[0m\n\u001b[0;32m--> 164\u001b[0;31m                                     \u001b[0mtime\u001b[0m\u001b[0;34m.\u001b[0m\u001b[0msleep\u001b[0m\u001b[0;34m(\u001b[0m\u001b[0msleep_time\u001b[0m \u001b[0;34m+\u001b[0m \u001b[0;36m5\u001b[0m\u001b[0;34m)\u001b[0m  \u001b[0;31m# sleep for few extra sec\u001b[0m\u001b[0;34m\u001b[0m\u001b[0m\n\u001b[0m\u001b[1;32m    165\u001b[0m \u001b[0;34m\u001b[0m\u001b[0m\n\u001b[1;32m    166\u001b[0m                 \u001b[0;31m# if self.wait_on_rate_limit and self._reset_time is not None and \\\u001b[0m\u001b[0;34m\u001b[0m\u001b[0;34m\u001b[0m\u001b[0m\n",
      "\u001b[0;31mKeyboardInterrupt\u001b[0m: "
     ]
    }
   ],
   "source": [
    "data={}\n",
    "i=0\n",
    "\n",
    "for tweet in tweepy.Cursor(api.search,q=\"LaNocheDeLosMuseos\",n=5).items(): \n",
    "    #print(tweet.author.screen_name, tweet.created_at,tweet.text)\n",
    "    #Archivo.write(str(tweet.author.screen_name)+'//'+str( tweet.created_at)+'//'+str(tweet.text)+'\\n\\n')\n",
    "    retweets=[]\n",
    "    for retweet in api.retweets(tweet.id):\n",
    "        retweets.append([retweet.user.id,tweet.author.id])\n",
    "    datalinea={\"autor\":tweet.author.screen_name,\"autorid\":tweet.author.id,\"fecha\": str(tweet.created_at),\n",
    "                         \"texto\":tweet.text,\"retweets\":retweets}\n",
    "    data[tweet.id]=datalinea\n",
    "    i+=1\n",
    "    print(i)\n",
    "json.dump(data,open('LaNocheDeLosMuseos2.json', 'w'))"
   ]
  },
  {
   "cell_type": "code",
   "execution_count": 67,
   "metadata": {
    "collapsed": true
   },
   "outputs": [],
   "source": [
    "json.dump(data,open('LaNocheDeLosMuseos2.json', 'w'))"
   ]
  },
  {
   "cell_type": "code",
   "execution_count": null,
   "metadata": {
    "collapsed": true
   },
   "outputs": [],
   "source": [
    "data={}\n",
    "i=0\n",
    "\n",
    "for tweet in tweepy.Cursor(api.search,q=\"NocheDeLosMuseos\",n=5).items(): \n",
    "    #print(tweet.author.screen_name, tweet.created_at,tweet.text)\n",
    "    #Archivo.write(str(tweet.author.screen_name)+'//'+str( tweet.created_at)+'//'+str(tweet.text)+'\\n\\n')\n",
    "    retweets=[]\n",
    "    for retweet in api.retweets(tweet.id):\n",
    "        retweets.append([retweet.user.id,tweet.author.id])\n",
    "    datalinea={\"autor\":tweet.author.screen_name,\"autorid\":tweet.author.id,\"fecha\": str(tweet.created_at),\n",
    "                         \"texto\":tweet.text,\"retweets\":retweets}\n",
    "    data[tweet.id]=datalinea\n",
    "    i+=1\n",
    "    print(i)\n",
    "json.dump(data,open('NocheDeLosMuseos2.json', 'w'))"
   ]
  },
  {
   "cell_type": "markdown",
   "metadata": {},
   "source": [
    "Para cada tweet vamos a levantar\n",
    "Autor\n",
    "Id Autor\n",
    "Texto\n",
    "Autores de los retweets\n",
    "Autores de los me gusta\n",
    "Autores de los comentarios\n",
    "fecha\n"
   ]
  },
  {
   "cell_type": "code",
   "execution_count": 84,
   "metadata": {},
   "outputs": [
    {
     "name": "stdout",
     "output_type": "stream",
     "text": [
      "[] ViveroFacundo\n",
      "[] campoadentro16\n",
      "[] gungurfinearts\n",
      "[] JcVazquez58\n",
      "[] SmmMaris\n",
      "[[3412844729, 281051064]] BCNArgentina\n",
      "[] chortp\n",
      "[] eneroman_nora\n",
      "[] Indembarg\n",
      "[] ConamMutual\n",
      "[[376723885, 216106179], [1590956791, 216106179], [851309247887441920, 216106179], [745316089500999680, 216106179], [2714777790, 216106179]] CulturaNacionAR\n",
      "[] manuelsilsan\n",
      "[] eneroman_nora\n",
      "[] miguelgracioso2\n",
      "[] eneroman_nora\n",
      "[] DONJULIO400\n",
      "[] SebZabs\n",
      "[] Angel4029F\n",
      "[] karlof11\n",
      "[] Silvanabanana2\n",
      "[] silvinanoguera\n",
      "[[3412844729, 281051064]] BCNArgentina\n",
      "[] MuseoRoca\n",
      "[] MuseoDecorativo\n",
      "[] Adrian80596816\n",
      "[] silvana_luvera\n",
      "[] miki_kusanagi\n",
      "[] Lolenico\n",
      "[] eneroman_nora\n",
      "[] C_COM_5\n",
      "[] Lore__Marquez\n",
      "[] Claudia65803029\n",
      "[] sebakatz\n",
      "[[166148237, 983458110827323393]] MuseoOriental\n",
      "[] PeronistasUnidx\n",
      "[] maferrari55\n",
      "[] Indembarg\n",
      "[] SmmMaris\n",
      "[] beatrizbostera3\n",
      "[] LSpoliansky\n",
      "[] mamriverplate\n",
      "[] sebakatz\n",
      "[] comoalilive\n",
      "[] sebakatz\n",
      "[] eneroman_nora\n",
      "[] Lore__Marquez\n",
      "[[1250537521, 281051064]] BCNArgentina\n",
      "[] RcA1_2Prensa\n",
      "[] Arturo31674598\n",
      "[] SebZabs\n",
      "[] CARLOSATOLOSA\n",
      "[] Marielasica\n",
      "[[3412844729, 281051064]] BCNArgentina\n",
      "[] Brianpanigo\n",
      "[] gabycastagnet\n",
      "[] granate1037\n",
      "[] ForameRosario\n",
      "[] quemero20\n",
      "[] juanchicoronel\n",
      "[] OrgulloPorteno\n",
      "[[3412844729, 281051064]] BCNArgentina\n",
      "[] jorgenavos\n",
      "[] SebZabs\n",
      "[] luiggimaciel\n",
      "[] MuseoRoca\n",
      "[] gungurfinearts\n",
      "[] AngusCros\n",
      "[] PatoDeLaet\n",
      "[] MuseoInformatic\n",
      "[] SusanaRisso1\n",
      "[[3412844729, 281051064]] BCNArgentina\n",
      "[] PeronistasUnidx\n",
      "[] erimolina30\n",
      "[] BOWSER_18\n",
      "[] MuseoInformatic\n"
     ]
    }
   ],
   "source": [
    "for idtweet in data:\n",
    "    print(data[idtweet][\"retweets\"],data[idtweet][\"autor\"])"
   ]
  },
  {
   "cell_type": "code",
   "execution_count": 85,
   "metadata": {},
   "outputs": [
    {
     "name": "stdout",
     "output_type": "stream",
     "text": [
      "{'1062030927331819525': {'fecha': '2018-11-12 17:14:39', 'texto': 'RT @FlacoStereo: GUSTAVO CERATI | \\n\\nSu acta original de nacimiento, 11 de Agosto de 1959, exhibida en el Registro Civil de la ciudad de Bue…', 'retweets': [], 'autor': 'ViveroFacundo', 'autorid': 937742727806144514}, '1062033180528705540': {'fecha': '2018-11-12 17:23:36', 'texto': 'RT @MindefArg: El fin de semana vivimos #LaNocheDeLosMuseos junto a los Regimientos de Granaderos y de Patricios https://t.co/Z1XATaT01y', 'retweets': [], 'autor': 'campoadentro16', 'autorid': 743629350537408512}, '1062044514733383680': {'fecha': '2018-11-12 18:08:38', 'texto': '#LaNocheDeLosMuseos 🌙\\n¡Gracias a todxs lxs que nos acompañaron el sábado!\\nLa presentación a cargo de Güngur Arts fu… https://t.co/2zxou9gSlp', 'retweets': [], 'autor': 'gungurfinearts', 'autorid': 154285638}, '1062035136039006209': {'fecha': '2018-11-12 17:31:22', 'texto': 'RT @AgroindustriaAR: La historia, la música, la innovación y los sabores del campo argentino están en Agroindustria. Te esperamos hasta las…', 'retweets': [], 'autor': 'JcVazquez58', 'autorid': 3132977845}, '1062022414631079936': {'fecha': '2018-11-12 16:40:49', 'texto': 'RT @MindefArg: El fin de semana vivimos #LaNocheDeLosMuseos junto a los Regimientos de Granaderos y de Patricios https://t.co/Z1XATaT01y', 'retweets': [], 'autor': 'SmmMaris', 'autorid': 2482962214}, '1062042368084492295': {'fecha': '2018-11-12 18:00:07', 'texto': '#LoQueNosDejó \\n🌜🏛️La Noche de los Museos en la @BCNArgentina\\n\\nProceso de Digitalización y Microfilmación en la… https://t.co/OOKTBkrx1S', 'retweets': [[3412844729, 281051064]], 'autor': 'BCNArgentina', 'autorid': 281051064}, '1062083207909306371': {'fecha': '2018-11-12 20:42:23', 'texto': 'RT @CMN_Argentina: A pesar de la lluvia, una gran cantidad de público se hizo presente en esta nueva edición de #LaNochedelosMuseos. Además…', 'retweets': [], 'autor': 'chortp', 'autorid': 201244021}, '1062066259053998080': {'fecha': '2018-11-12 19:35:03', 'texto': 'RT @BCNArgentina: #LoQueNosDejó \\nLa Noche de los Museos en la @BCNArgentina\\n\\nRecorrido por el depósito de libros de la Sala Pública de Lect…', 'retweets': [], 'autor': 'eneroman_nora', 'autorid': 3412844729}, '1062051127515103232': {'fecha': '2018-11-12 18:34:55', 'texto': 'RT @MuseoOriental: #LaNocheDeLosMuseos 🌙\\n¡Gracias a todxs lxs que nos acompañaron el sábado!\\nLa presentación a cargo de @gungurfinearts fue…', 'retweets': [], 'autor': 'Indembarg', 'autorid': 166148237}, '1062035730204184576': {'fecha': '2018-11-12 17:33:44', 'texto': 'Segunda participación del mutualismo en #LaNocheDeLosMuseos 👏👏Agradecemos a la gran cantidad de personas que se ace… https://t.co/2pTymDDaco', 'retweets': [], 'autor': 'ConamMutual', 'autorid': 857618731110977540}, '1062021034390548485': {'fecha': '2018-11-12 16:35:20', 'texto': '🎉 Reviví todo lo que pasó en #LaNocheDeLosMuseos 15º en la que nuestros #MuseosNacionales fueron protagonistas. 🎉 https://t.co/SXzjSIwcd2', 'retweets': [[376723885, 216106179], [1590956791, 216106179], [851309247887441920, 216106179], [745316089500999680, 216106179], [2714777790, 216106179]], 'autor': 'CulturaNacionAR', 'autorid': 216106179}, '1062080646380748806': {'fecha': '2018-11-12 20:32:13', 'texto': 'RT @NickyMarquez1: \"El lobby LGBT busca legalizar la pedofilia\" Comparto nota que brindé para la TV española. \\nhttps://t.co/T5H0BUBSwM\\n#Inu…', 'retweets': [], 'autor': 'manuelsilsan', 'autorid': 243009562}, '1062066307670175745': {'fecha': '2018-11-12 19:35:14', 'texto': 'RT @BCNArgentina: #LoQueNosDejó \\n🌜🏛️La Noche de los Museos en la @BCNArgentina\\n\\nHomenaje a Sarmiento en la @NocheMuseos la Sala Pública de…', 'retweets': [], 'autor': 'eneroman_nora', 'autorid': 3412844729}, '1062080985444036615': {'fecha': '2018-11-12 20:33:34', 'texto': 'RT @JuaNyP__: Explosión y pánico en el tren Mitre a metros de la estación Ballester\\n#MacricidioDia1067\\n\\n#LaNocheDeML #PodemosHablar\\n#Inunda…', 'retweets': [], 'autor': 'miguelgracioso2', 'autorid': 2463988771}, '1062066440751194114': {'fecha': '2018-11-12 19:35:46', 'texto': 'RT @BCNArgentina: #LoQueNosDejó \\nLa Noche de los Museos en la @BCNArgentina \\n\\nMuestra de encuadernación y restauración\\n\\n#LaNochedelosMuseos…', 'retweets': [], 'autor': 'eneroman_nora', 'autorid': 3412844729}, '1062034590850793472': {'fecha': '2018-11-12 17:29:12', 'texto': 'RT @loqmehacereir: #laNocheDeLosMuseos https://t.co/DXVgZuycf8', 'retweets': [], 'autor': 'DONJULIO400', 'autorid': 937511340}, '1062043880554745858': {'fecha': '2018-11-12 18:06:07', 'texto': 'e_e \\n#FCEyN\\n\\nFragmentos del Set del sabado en #lanochedelosmuseos \\nExcerpts from my Set on Saturday\\n\\nFull Set Video… https://t.co/0BFSio9C8D', 'retweets': [], 'autor': 'SebZabs', 'autorid': 4136956605}, '1062042439362510853': {'fecha': '2018-11-12 18:00:23', 'texto': 'RT @JuaNyP__: Por el y por los que ya no están. Hay que volver\\nla única que puede sacarnos de este infierno!!\\n#MacricidioDia1067\\n\\n#LaNocheD…', 'retweets': [], 'autor': 'Angel4029F', 'autorid': 1591227648}, '1062024581534416896': {'fecha': '2018-11-12 16:49:26', 'texto': 'RT @CMN_Argentina: A pesar de la lluvia, una gran cantidad de público se hizo presente en esta nueva edición de #LaNochedelosMuseos. Además…', 'retweets': [], 'autor': 'karlof11', 'autorid': 295723049}, '1062062613578874887': {'fecha': '2018-11-12 19:20:33', 'texto': 'RT @BCNArgentina: #LoQueNosDejó \\n🌜🏛️La Noche de los Museos en la @BCNArgentina\\n\\nHomenaje a Sarmiento en la @NocheMuseos la Sala Pública de…', 'retweets': [], 'autor': 'Silvanabanana2', 'autorid': 1250537521}, '1062052184223870978': {'fecha': '2018-11-12 18:39:07', 'texto': 'RT @BCNArgentina: #LoQueNosDejó \\n🌜La Noche de los Museos en la @BCNArgentina\\n\\n@MateoNiro Subsecretario de Gestión y Difusión del Conocimien…', 'retweets': [], 'autor': 'silvinanoguera', 'autorid': 170318610}, '1062065011001094145': {'fecha': '2018-11-12 19:30:05', 'texto': '#LoQueNosDejó \\nLa Noche de los Museos en la @BCNArgentina\\n\\nRecorrido por el depósito de libros de la Sala Pública d… https://t.co/TYLvxFR6uA', 'retweets': [[3412844729, 281051064]], 'autor': 'BCNArgentina', 'autorid': 281051064}, '1062076277056815104': {'fecha': '2018-11-12 20:14:51', 'texto': 'RT @CulturaNacionAR: 🎉 Reviví todo lo que pasó en #LaNocheDeLosMuseos 15º en la que nuestros #MuseosNacionales fueron protagonistas. 🎉 http…', 'retweets': [], 'autor': 'MuseoRoca', 'autorid': 376723885}, '1062027177909239808': {'fecha': '2018-11-12 16:59:45', 'texto': 'RT @CulturaNacionAR: 🎉 Reviví todo lo que pasó en #LaNocheDeLosMuseos 15º en la que nuestros #MuseosNacionales fueron protagonistas. 🎉 http…', 'retweets': [], 'autor': 'MuseoDecorativo', 'autorid': 745316089500999680}, '1062072917897428992': {'fecha': '2018-11-12 20:01:30', 'texto': 'RT @leomarconi853: No fui a #LaNocheDeLosMuseos . Repodrido con las mamis q llenan el lugar con sus hijos tratando de demostrar q engendrar…', 'retweets': [], 'autor': 'Adrian80596816', 'autorid': 1040352011869401088}, '1062020233630793728': {'fecha': '2018-11-12 16:32:09', 'texto': 'RT @BaPatrimonio: A pesar de la lluvia, la gente recorrió la Muestra: \"Thays, una invitación a los sentidos\", en el Espacio Virrey Liniers…', 'retweets': [], 'autor': 'silvana_luvera', 'autorid': 850122686353338368}, '1062044330490281989': {'fecha': '2018-11-12 18:07:54', 'texto': 'RT @FlacoStereo: GUSTAVO CERATI | \\n\\nSu acta original de nacimiento, 11 de Agosto de 1959, exhibida en el Registro Civil de la ciudad de Bue…', 'retweets': [], 'autor': 'miki_kusanagi', 'autorid': 478103383}, '1062031097641533440': {'fecha': '2018-11-12 17:15:19', 'texto': 'RT @espacio_memoria: #LaNocheDeLosMuseos en la ex ESMA https://t.co/6KrO1k73lS', 'retweets': [], 'autor': 'Lolenico', 'autorid': 187355485}, '1062066333909741574': {'fecha': '2018-11-12 19:35:20', 'texto': 'RT @BCNArgentina: #LoQueNosDejó \\n🌜🏛️La Noche de los Museos en la @BCNArgentina\\n\\nProceso de Digitalización y Microfilmación en la @NocheMuse…', 'retweets': [], 'autor': 'eneroman_nora', 'autorid': 3412844729}, '1062028565204611072': {'fecha': '2018-11-12 17:05:16', 'texto': 'RT @JuaNyP__: Clasifiquemos bien los residuos: la mayoría es reciclable, mientras que otras basuras no sirven ni para tapar pozos.\\n#Macrici…', 'retweets': [], 'autor': 'C_COM_5', 'autorid': 1600116810}, '1062024152712921094': {'fecha': '2018-11-12 16:47:44', 'texto': 'RT @CMN_Argentina: A pesar de la lluvia, una gran cantidad de público se hizo presente en esta nueva edición de #LaNochedelosMuseos. Además…', 'retweets': [], 'autor': 'Lore__Marquez', 'autorid': 148000720}, '1062034931684122624': {'fecha': '2018-11-12 17:30:34', 'texto': 'RT @maumacrii: Hoy se celebra la 15º edición de #LaNocheDeLosMuseos, no se pierdan el museo de la @TV_Publica, incluyó hace casi tres años…', 'retweets': [], 'autor': 'Claudia65803029', 'autorid': 3852125476}, '1062027397808222208': {'fecha': '2018-11-12 17:00:37', 'texto': '#LaNocheDeLosMuseos en el renovado museo del Regimiento de Infantería 1 Patricios. https://t.co/Ksz5lKQ2Hv', 'retweets': [], 'autor': 'sebakatz', 'autorid': 151252784}, '1062042477681618944': {'fecha': '2018-11-12 18:00:33', 'texto': '#LaNocheDeLosMuseos 🌙\\n¡Gracias a todxs lxs que nos acompañaron el sábado!\\nLa presentación a cargo de… https://t.co/drkIIRCxUW', 'retweets': [[166148237, 983458110827323393]], 'autor': 'MuseoOriental', 'autorid': 983458110827323393}, '1062074429751074817': {'fecha': '2018-11-12 20:07:31', 'texto': 'RT @PeronistasUnidx: Elena Genise, defensora del terrorismo de Estado, dejó su puesto en la Agencia de Discapacidad\\n#Superclasico #PodemosH…', 'retweets': [], 'autor': 'PeronistasUnidx', 'autorid': 883153468852252672}, '1062019179765776387': {'fecha': '2018-11-12 16:27:58', 'texto': 'RT @Gracemazzola: ⚠️ #LaNocheDeLosMuseos https://t.co/fWEQOQ5a19', 'retweets': [], 'autor': 'maferrari55', 'autorid': 629796491}, '1062051829830303745': {'fecha': '2018-11-12 18:37:42', 'texto': 'RT @CulturaNacionAR: El @MuseoOriental presenta al grupo Güngur en el @MuseoDecorativo en la #LaNocheDeLosMuseos https://t.co/kQcWurDmRF', 'retweets': [], 'autor': 'Indembarg', 'autorid': 166148237}, '1062018859136438272': {'fecha': '2018-11-12 16:26:42', 'texto': 'RT @Gracemazzola: ⚠️ #LaNocheDeLosMuseos https://t.co/fWEQOQ5a19', 'retweets': [], 'autor': 'SmmMaris', 'autorid': 2482962214}, '1062027841460756480': {'fecha': '2018-11-12 17:02:23', 'texto': 'RT @MindefArg: El fin de semana vivimos #LaNocheDeLosMuseos junto a los Regimientos de Granaderos y de Patricios https://t.co/Z1XATaT01y', 'retweets': [], 'autor': 'beatrizbostera3', 'autorid': 751159220007993344}, '1062064092867899392': {'fecha': '2018-11-12 19:26:26', 'texto': 'Que las búsquedas se prolonguen...no quiere decir que tengas que abandonarlas..\\n\\n\"En búsqueda\"\\nMuestra plastica: Bú… https://t.co/IyAoMZ6gse', 'retweets': [], 'autor': 'LSpoliansky', 'autorid': 1030904475991638016}, '1062025090240561154': {'fecha': '2018-11-12 16:51:27', 'texto': 'RT @MindefArg: El fin de semana vivimos #LaNocheDeLosMuseos junto a los Regimientos de Granaderos y de Patricios https://t.co/Z1XATaT01y', 'retweets': [], 'autor': 'mamriverplate', 'autorid': 3410765104}, '1062021788325027843': {'fecha': '2018-11-12 16:38:20', 'texto': 'RT @MindefArg: El fin de semana vivimos #LaNocheDeLosMuseos junto a los Regimientos de Granaderos y de Patricios https://t.co/Z1XATaT01y', 'retweets': [], 'autor': 'sebakatz', 'autorid': 151252784}, '1062032812306563074': {'fecha': '2018-11-12 17:22:08', 'texto': 'RT @PeronistasUnidx: ¿Cómo está la gente de la pcia de Bs as? Ah \\nTeléfono Para Vidal! \\n\\n#SuperFinal #PodemosHablar #LaNocheDeLosMuseos #La…', 'retweets': [], 'autor': 'comoalilive', 'autorid': 815803214}, '1062021798630432770': {'fecha': '2018-11-12 16:38:22', 'texto': 'RT @CMN_Argentina: A pesar de la lluvia, una gran cantidad de público se hizo presente en esta nueva edición de #LaNochedelosMuseos. Además…', 'retweets': [], 'autor': 'sebakatz', 'autorid': 151252784}, '1062066281468305408': {'fecha': '2018-11-12 19:35:08', 'texto': 'RT @BCNArgentina: #LoQueNosDejó \\nLa Noche de los Museos en la @BCNArgentina\\n\\nExposición de maquetas “Museos del mundo”\\nTrabajos de estudian…', 'retweets': [], 'autor': 'eneroman_nora', 'autorid': 3412844729}, '1062022115002593281': {'fecha': '2018-11-12 16:39:38', 'texto': 'RT @MindefArg: El fin de semana vivimos #LaNocheDeLosMuseos junto a los Regimientos de Granaderos y de Patricios https://t.co/Z1XATaT01y', 'retweets': [], 'autor': 'Lore__Marquez', 'autorid': 148000720}, '1062031063910940672': {'fecha': '2018-11-12 17:15:11', 'texto': '#LoQueNosDejó \\n🌜🏛️La Noche de los Museos en la @BCNArgentina\\n\\nHomenaje a Sarmiento en la @NocheMuseos la Sala Públi… https://t.co/YDJ1SFh21X', 'retweets': [[1250537521, 281051064]], 'autor': 'BCNArgentina', 'autorid': 281051064}, '1062036502534909953': {'fecha': '2018-11-12 17:36:48', 'texto': 'RT @mumimumi09: #lluvia  Personal Fest #Inundaciones #LaNocheDeLosMuseos       Como se las extraña ! inundaciones sin ellas NO SON LO MISMO…', 'retweets': [], 'autor': 'RcA1_2Prensa', 'autorid': 800806266826129408}, '1062063016303312896': {'fecha': '2018-11-12 19:22:09', 'texto': 'RT @marielacoletta: Anoche la @ucrcapital abrió sus puertas en el marco de #LaNocheDeLosMuseos para repasar la historia de nuestro partido…', 'retweets': [], 'autor': 'Arturo31674598', 'autorid': 982724663385214976}, '1062044244469256197': {'fecha': '2018-11-12 18:07:34', 'texto': 'e_e \\n#FCEyN\\n\\nFragmentos del Set del sabado en #lanochedelosmuseos \\nExcerpts from my Set on Saturday\\n\\nFull Set Video… https://t.co/w1Z1MKHG8u', 'retweets': [], 'autor': 'SebZabs', 'autorid': 4136956605}, '1062022190500143104': {'fecha': '2018-11-12 16:39:56', 'texto': 'RT @MindefArg: El fin de semana vivimos #LaNocheDeLosMuseos junto a los Regimientos de Granaderos y de Patricios https://t.co/Z1XATaT01y', 'retweets': [], 'autor': 'CARLOSATOLOSA', 'autorid': 186987322}, '1062048467009372165': {'fecha': '2018-11-12 18:24:21', 'texto': 'RT @CulturaNacionAR: 🎉 Reviví todo lo que pasó en #LaNocheDeLosMuseos 15º en la que nuestros #MuseosNacionales fueron protagonistas. 🎉 http…', 'retweets': [], 'autor': 'Marielasica', 'autorid': 851309247887441920}, '1062050011092000770': {'fecha': '2018-11-12 18:30:29', 'texto': '#LoQueNosDejó \\n🌜🏛️La Noche de los Museos en la @BCNArgentina\\n\\nHomenaje a Sarmiento en la @NocheMuseos la Sala Públi… https://t.co/kOxVSF63Sg', 'retweets': [[3412844729, 281051064]], 'autor': 'BCNArgentina', 'autorid': 281051064}, '1062024017610268672': {'fecha': '2018-11-12 16:47:11', 'texto': 'RT @DestefanisSeba: #LaNochedelosMuseos y un recuerdo encantador. \\n@ArsenalOficial creador de la noche infinita. #Bombonerazo2012 https://t…', 'retweets': [], 'autor': 'Brianpanigo', 'autorid': 704765368355659780}, '1062039091309694977': {'fecha': '2018-11-12 17:47:05', 'texto': 'RT @BCNArgentina: #LoQueNosDejó \\n🌜La Noche de los Museos en la @BCNArgentina\\n\\n@MateoNiro Subsecretario de Gestión y Difusión del Conocimien…', 'retweets': [], 'autor': 'gabycastagnet', 'autorid': 356272054}, '1062047991291432960': {'fecha': '2018-11-12 18:22:27', 'texto': 'RT @mumimumi09: #lluvia  Personal Fest #Inundaciones #LaNocheDeLosMuseos       Como se las extraña ! inundaciones sin ellas NO SON LO MISMO…', 'retweets': [], 'autor': 'granate1037', 'autorid': 612596989}, '1062065918803611648': {'fecha': '2018-11-12 19:33:41', 'texto': 'RT @CulturaNacionAR: 🎉 Reviví todo lo que pasó en #LaNocheDeLosMuseos 15º en la que nuestros #MuseosNacionales fueron protagonistas. 🎉 http…', 'retweets': [], 'autor': 'ForameRosario', 'autorid': 1590956791}, '1062024995747086337': {'fecha': '2018-11-12 16:51:05', 'texto': 'RT @CulturaNacionAR: 🎉 Reviví todo lo que pasó en #LaNocheDeLosMuseos 15º en la que nuestros #MuseosNacionales fueron protagonistas. 🎉 http…', 'retweets': [], 'autor': 'quemero20', 'autorid': 2714777790}, '1062049351239905282': {'fecha': '2018-11-12 18:27:51', 'texto': 'RT @JuaNyP__: escucha al MACHIRULO apurando al grupete....\\nla sandia en la boca estuvo, esta y estará siempre..\\n#MacricidioDia1067\\n\\n#LaNoch…', 'retweets': [], 'autor': 'juanchicoronel', 'autorid': 160067902}, '1062072601151971343': {'fecha': '2018-11-12 20:00:15', 'texto': 'RT @NickyMarquez1: \"El lobby LGBT busca legalizar la pedofilia\" Comparto nota que brindé para la TV española. \\nhttps://t.co/T5H0BUBSwM\\n#Inu…', 'retweets': [], 'autor': 'OrgulloPorteno', 'autorid': 195412602}, '1062065001253482497': {'fecha': '2018-11-12 19:30:03', 'texto': '#LoQueNosDejó \\nLa Noche de los Museos en la @BCNArgentina\\n\\nExposición de maquetas “Museos del mundo”\\nTrabajos de es… https://t.co/SqtUnEW5VP', 'retweets': [[3412844729, 281051064]], 'autor': 'BCNArgentina', 'autorid': 281051064}, '1062048723763634176': {'fecha': '2018-11-12 18:25:22', 'texto': '#LaNochedelosMuseos https://t.co/LHX9PsOg1g', 'retweets': [], 'autor': 'jorgenavos', 'autorid': 146539590}, '1062043363417972736': {'fecha': '2018-11-12 18:04:04', 'texto': 'e_e \\n#FCEyN\\n\\nFragmentos del Set del sabado en #lanochedelosmuseos \\nExcerpts from my Set on Saturday\\n\\nFull Set Video… https://t.co/tbojea4CyL', 'retweets': [], 'autor': 'SebZabs', 'autorid': 4136956605}, '1062079729195515904': {'fecha': '2018-11-12 20:28:34', 'texto': 'RT @UCRCapital: #AHORA Nuestra casa, nuestra historia.\\nSomos pasado, presente y futuro.\\nTe esperamos! 🇵🇱\\n#LaNocheDeLosMuseos https://t.co/s…', 'retweets': [], 'autor': 'luiggimaciel', 'autorid': 146717621}, '1062076753659785216': {'fecha': '2018-11-12 20:16:45', 'texto': '🎨🏡 #LaNocheDeLosMuseos | El taller de pintura del #MuseoRoca fue un éxito entre grandes y chicos que se acercaron a… https://t.co/Tg78QEeYIO', 'retweets': [], 'autor': 'MuseoRoca', 'autorid': 376723885}, '1062031972166483968': {'fecha': '2018-11-12 17:18:48', 'texto': 'Secretaría de Cultura de la Nación\\n\\nEl Museo Nacional de Arte Oriental presenta al grupo Güngur Arts, que se prepar… https://t.co/9doSNMljMu', 'retweets': [], 'autor': 'gungurfinearts', 'autorid': 154285638}, '1062034546953203712': {'fecha': '2018-11-12 17:29:02', 'texto': 'RT @FlacoStereo: GUSTAVO CERATI | \\n\\nSu acta original de nacimiento, 11 de Agosto de 1959, exhibida en el Registro Civil de la ciudad de Bue…', 'retweets': [], 'autor': 'AngusCros', 'autorid': 900648714}, '1062019250305544196': {'fecha': '2018-11-12 16:28:15', 'texto': 'RT @apusenorans: #LaNocheDeLosMuseos ➡🙌 ¡¡¡Es HOY!!! 🙌 ¡Recordá, desde las 20 hs, te esperamos!👇👇👇 https://t.co/DzCcN36eWD', 'retweets': [], 'autor': 'PatoDeLaet', 'autorid': 238728409}, '1062054212299878400': {'fecha': '2018-11-12 18:47:10', 'texto': 'El sábado en #LaNocheDeLosMuseos la gente se divertía así. https://t.co/t5rrROaBvA', 'retweets': [], 'autor': 'MuseoInformatic', 'autorid': 1514254435}, '1062018470852857856': {'fecha': '2018-11-12 16:25:09', 'texto': 'RT @CMN_Argentina: A pesar de la lluvia, una gran cantidad de público se hizo presente en esta nueva edición de #LaNochedelosMuseos. Además…', 'retweets': [], 'autor': 'SusanaRisso1', 'autorid': 4057331061}, '1062057545991364614': {'fecha': '2018-11-12 19:00:25', 'texto': '#LoQueNosDejó \\nLa Noche de los Museos en la @BCNArgentina \\n\\nMuestra de encuadernación y restauración… https://t.co/J6ahH0l8sC', 'retweets': [[3412844729, 281051064]], 'autor': 'BCNArgentina', 'autorid': 281051064}, '1062029778184744966': {'fecha': '2018-11-12 17:10:05', 'texto': 'RT @PeronistasUnidx: ¿Cómo está la gente de la pcia de Bs as? Ah \\nTeléfono Para Vidal! \\n\\n#SuperFinal #PodemosHablar #LaNocheDeLosMuseos #La…', 'retweets': [], 'autor': 'PeronistasUnidx', 'autorid': 883153468852252672}, '1062056693058732039': {'fecha': '2018-11-12 18:57:02', 'texto': 'RT @datacultura: ¡#LaNochedelosMuseos cumplió 15 años y así lo celebramos!🎉 ¿Que fue lo que más te gusto? 😀 https://t.co/67CUa5WNJz', 'retweets': [], 'autor': 'erimolina30', 'autorid': 839018437}, '1062045702707126272': {'fecha': '2018-11-12 18:13:22', 'texto': 'RT @NickyMarquez1: \"El lobby LGBT busca legalizar la pedofilia\" Comparto nota que brindé para la TV española. \\nhttps://t.co/T5H0BUBSwM\\n#Inu…', 'retweets': [], 'autor': 'BOWSER_18', 'autorid': 150441729}, '1062039238110195713': {'fecha': '2018-11-12 17:47:40', 'texto': 'Video del sábado en #laNochedelosMuseos en Museo de Informática de la República Argentina https://t.co/5Qp9hfiYjz', 'retweets': [], 'autor': 'MuseoInformatic', 'autorid': 1514254435}}\n"
     ]
    }
   ],
   "source": [
    "print(data)"
   ]
  },
  {
   "cell_type": "markdown",
   "metadata": {},
   "source": [
    "## Grafo desde la cuenta NocheMuseos\n"
   ]
  },
  {
   "cell_type": "code",
   "execution_count": 13,
   "metadata": {
    "collapsed": true
   },
   "outputs": [],
   "source": [
    "def checkFollow(usa,usb):\n",
    "    relation = api.show_friendship(source_id=usa, target_id=usb)\n",
    "    if relation[0].following: #I'm not sure if it should be \"target\" or \"source\" here\n",
    "        return True\n",
    "    return False"
   ]
  },
  {
   "cell_type": "code",
   "execution_count": 15,
   "metadata": {},
   "outputs": [
    {
     "ename": "KeyboardInterrupt",
     "evalue": "",
     "output_type": "error",
     "traceback": [
      "\u001b[0;31m---------------------------------------------------------------------------\u001b[0m",
      "\u001b[0;31mKeyboardInterrupt\u001b[0m                         Traceback (most recent call last)",
      "\u001b[0;32m<ipython-input-15-66d805f97b69>\u001b[0m in \u001b[0;36m<module>\u001b[0;34m\u001b[0m\n\u001b[1;32m     15\u001b[0m     \u001b[0;32mfor\u001b[0m \u001b[0mnodo2\u001b[0m \u001b[0;32min\u001b[0m \u001b[0mfollowers\u001b[0m\u001b[0;34m:\u001b[0m\u001b[0;34m\u001b[0m\u001b[0m\n\u001b[1;32m     16\u001b[0m         \u001b[0;32mif\u001b[0m \u001b[0mnodo1\u001b[0m \u001b[0;34m!=\u001b[0m \u001b[0mnodo2\u001b[0m\u001b[0;34m:\u001b[0m\u001b[0;34m\u001b[0m\u001b[0m\n\u001b[0;32m---> 17\u001b[0;31m             \u001b[0;32mif\u001b[0m \u001b[0mcheckFollow\u001b[0m\u001b[0;34m(\u001b[0m\u001b[0mnodo1\u001b[0m\u001b[0;34m,\u001b[0m\u001b[0mnodo2\u001b[0m\u001b[0;34m)\u001b[0m\u001b[0;34m:\u001b[0m\u001b[0;34m\u001b[0m\u001b[0m\n\u001b[0m\u001b[1;32m     18\u001b[0m                 \u001b[0mnuevoenlace\u001b[0m\u001b[0;34m=\u001b[0m\u001b[0;34m[\u001b[0m\u001b[0mnodo1\u001b[0m\u001b[0;34m,\u001b[0m \u001b[0mnodo2\u001b[0m\u001b[0;34m]\u001b[0m\u001b[0;34m\u001b[0m\u001b[0m\n\u001b[1;32m     19\u001b[0m                 \u001b[0maristas\u001b[0m\u001b[0;34m.\u001b[0m\u001b[0mappend\u001b[0m\u001b[0;34m(\u001b[0m\u001b[0mnuevoenlace\u001b[0m\u001b[0;34m)\u001b[0m\u001b[0;34m\u001b[0m\u001b[0m\n",
      "\u001b[0;32m<ipython-input-13-64e9217c33b9>\u001b[0m in \u001b[0;36mcheckFollow\u001b[0;34m(usa, usb)\u001b[0m\n\u001b[1;32m      1\u001b[0m \u001b[0;32mdef\u001b[0m \u001b[0mcheckFollow\u001b[0m\u001b[0;34m(\u001b[0m\u001b[0musa\u001b[0m\u001b[0;34m,\u001b[0m\u001b[0musb\u001b[0m\u001b[0;34m)\u001b[0m\u001b[0;34m:\u001b[0m\u001b[0;34m\u001b[0m\u001b[0m\n\u001b[0;32m----> 2\u001b[0;31m     \u001b[0mrelation\u001b[0m \u001b[0;34m=\u001b[0m \u001b[0mapi\u001b[0m\u001b[0;34m.\u001b[0m\u001b[0mshow_friendship\u001b[0m\u001b[0;34m(\u001b[0m\u001b[0msource_id\u001b[0m\u001b[0;34m=\u001b[0m\u001b[0musa\u001b[0m\u001b[0;34m,\u001b[0m \u001b[0mtarget_id\u001b[0m\u001b[0;34m=\u001b[0m\u001b[0musb\u001b[0m\u001b[0;34m)\u001b[0m\u001b[0;34m\u001b[0m\u001b[0m\n\u001b[0m\u001b[1;32m      3\u001b[0m     \u001b[0;32mif\u001b[0m \u001b[0mrelation\u001b[0m\u001b[0;34m[\u001b[0m\u001b[0;36m0\u001b[0m\u001b[0;34m]\u001b[0m\u001b[0;34m.\u001b[0m\u001b[0mfollowing\u001b[0m\u001b[0;34m:\u001b[0m \u001b[0;31m#I'm not sure if it should be \"target\" or \"source\" here\u001b[0m\u001b[0;34m\u001b[0m\u001b[0m\n\u001b[1;32m      4\u001b[0m         \u001b[0;32mreturn\u001b[0m \u001b[0;32mTrue\u001b[0m\u001b[0;34m\u001b[0m\u001b[0m\n\u001b[1;32m      5\u001b[0m     \u001b[0;32mreturn\u001b[0m \u001b[0;32mFalse\u001b[0m\u001b[0;34m\u001b[0m\u001b[0m\n",
      "\u001b[0;32m~/.local/lib/python3.5/site-packages/tweepy/binder.py\u001b[0m in \u001b[0;36m_call\u001b[0;34m(*args, **kwargs)\u001b[0m\n\u001b[1;32m    248\u001b[0m             \u001b[0;32mreturn\u001b[0m \u001b[0mmethod\u001b[0m\u001b[0;34m\u001b[0m\u001b[0m\n\u001b[1;32m    249\u001b[0m         \u001b[0;32melse\u001b[0m\u001b[0;34m:\u001b[0m\u001b[0;34m\u001b[0m\u001b[0m\n\u001b[0;32m--> 250\u001b[0;31m             \u001b[0;32mreturn\u001b[0m \u001b[0mmethod\u001b[0m\u001b[0;34m.\u001b[0m\u001b[0mexecute\u001b[0m\u001b[0;34m(\u001b[0m\u001b[0;34m)\u001b[0m\u001b[0;34m\u001b[0m\u001b[0m\n\u001b[0m\u001b[1;32m    251\u001b[0m \u001b[0;34m\u001b[0m\u001b[0m\n\u001b[1;32m    252\u001b[0m     \u001b[0;31m# Set pagination mode\u001b[0m\u001b[0;34m\u001b[0m\u001b[0;34m\u001b[0m\u001b[0m\n",
      "\u001b[0;32m~/.local/lib/python3.5/site-packages/tweepy/binder.py\u001b[0m in \u001b[0;36mexecute\u001b[0;34m(self)\u001b[0m\n\u001b[1;32m    162\u001b[0m                                     \u001b[0;32mif\u001b[0m \u001b[0mself\u001b[0m\u001b[0;34m.\u001b[0m\u001b[0mwait_on_rate_limit_notify\u001b[0m\u001b[0;34m:\u001b[0m\u001b[0;34m\u001b[0m\u001b[0m\n\u001b[1;32m    163\u001b[0m                                         \u001b[0mlog\u001b[0m\u001b[0;34m.\u001b[0m\u001b[0mwarning\u001b[0m\u001b[0;34m(\u001b[0m\u001b[0;34m\"Rate limit reached. Sleeping for: %d\"\u001b[0m \u001b[0;34m%\u001b[0m \u001b[0msleep_time\u001b[0m\u001b[0;34m)\u001b[0m\u001b[0;34m\u001b[0m\u001b[0m\n\u001b[0;32m--> 164\u001b[0;31m                                     \u001b[0mtime\u001b[0m\u001b[0;34m.\u001b[0m\u001b[0msleep\u001b[0m\u001b[0;34m(\u001b[0m\u001b[0msleep_time\u001b[0m \u001b[0;34m+\u001b[0m \u001b[0;36m5\u001b[0m\u001b[0;34m)\u001b[0m  \u001b[0;31m# sleep for few extra sec\u001b[0m\u001b[0;34m\u001b[0m\u001b[0m\n\u001b[0m\u001b[1;32m    165\u001b[0m \u001b[0;34m\u001b[0m\u001b[0m\n\u001b[1;32m    166\u001b[0m                 \u001b[0;31m# if self.wait_on_rate_limit and self._reset_time is not None and \\\u001b[0m\u001b[0;34m\u001b[0m\u001b[0;34m\u001b[0m\u001b[0m\n",
      "\u001b[0;31mKeyboardInterrupt\u001b[0m: "
     ]
    }
   ],
   "source": [
    "#archivo=open('redegodelosmuseos.txt', 'w')\n",
    "i=0\n",
    "cuenta=\"NocheMuseos\"\n",
    "followers = api.followers_ids(cuenta,n=10)\n",
    "#friends = api.friends_ids(cuenta)\n",
    "#nodos=[]\n",
    "aristas=[]\n",
    "\n",
    "#len(followers)\n",
    "#for follower in followers: \n",
    "#    nodos.append(API.)\n",
    "\n",
    "\n",
    "for nodo1 in followers:\n",
    "    for nodo2 in followers:\n",
    "        if nodo1 != nodo2:\n",
    "            if checkFollow(nodo1,nodo2):\n",
    "                nuevoenlace=[nodo1, nodo2]\n",
    "                aristas.append(nuevoenlace)\n",
    "                print(nuevoenlace)\n",
    "\n",
    "#print(followers)\n",
    "#for follower in followers:    \n",
    "#    aristas.append(follower.screen_name) \n",
    "#\n",
    "#    try:\n",
    "#        followers1 = api.followers(follower.screen_name,n=1000)    # seguidores de cada amigo la noche de los museos\n",
    "#    except:\n",
    "#        print ('Fallo')\n",
    "#        pass\n",
    "#    for follower1 in followers1:\n",
    "#        aristas.append(follower1.screen_name)\n"
   ]
  },
  {
   "cell_type": "markdown",
   "metadata": {},
   "source": [
    "### Armar el grafo"
   ]
  },
  {
   "cell_type": "code",
   "execution_count": 88,
   "metadata": {
    "collapsed": true
   },
   "outputs": [],
   "source": [
    "import networkx as nx\n",
    "import matplotlib.pyplot as plt"
   ]
  },
  {
   "cell_type": "code",
   "execution_count": 89,
   "metadata": {
    "collapsed": true
   },
   "outputs": [],
   "source": [
    "with open(\"LaNocheDeLosMuseos2.json\",'r') as read:\n",
    "    data=json.load(read)"
   ]
  },
  {
   "cell_type": "code",
   "execution_count": 95,
   "metadata": {},
   "outputs": [
    {
     "name": "stdout",
     "output_type": "stream",
     "text": [
      "[3412844729, 281051064]\n",
      "[376723885, 216106179]\n",
      "[1590956791, 216106179]\n",
      "[851309247887441920, 216106179]\n",
      "[745316089500999680, 216106179]\n",
      "[2714777790, 216106179]\n",
      "[3412844729, 281051064]\n",
      "[166148237, 983458110827323393]\n",
      "[1250537521, 281051064]\n",
      "[3412844729, 281051064]\n",
      "[3412844729, 281051064]\n",
      "[3412844729, 281051064]\n",
      "67\n"
     ]
    }
   ],
   "source": [
    "G=nx.Graph()\n",
    "j=0\n",
    "for idtweet in data:\n",
    "    if data[idtweet][\"retweets\"]==[]:\n",
    "        j+=1\n",
    "\n",
    "    for ret in (data[idtweet][\"retweets\"]):\n",
    "        print(ret)\n",
    "        G.add_edge(ret[0],ret[1])\n",
    "print(j)"
   ]
  },
  {
   "cell_type": "code",
   "execution_count": 91,
   "metadata": {},
   "outputs": [
    {
     "data": {
      "image/png": "[encoded data removed]",
      "text/plain": [
       "<matplotlib.figure.Figure at 0x7f97d23f0320>"
      ]
     },
     "metadata": {},
     "output_type": "display_data"
    }
   ],
   "source": [
    "nx.draw(G, with_labels=True)\n",
    "plt.show()"
   ]
  },
  {
   "cell_type": "code",
   "execution_count": null,
   "metadata": {
    "collapsed": true
   },
   "outputs": [],
   "source": []
  }
 ],
 "metadata": {
  "kernelspec": {
   "display_name": "Python 3",
   "language": "python",
   "name": "python3"
  },
  "language_info": {
   "codemirror_mode": {
    "name": "ipython",
    "version": 3
   },
   "file_extension": ".py",
   "mimetype": "text/x-python",
   "name": "python",
   "nbconvert_exporter": "python",
   "pygments_lexer": "ipython3",
   "version": "3.5.2"
  }
 },
 "nbformat": 4,
 "nbformat_minor": 2
}
