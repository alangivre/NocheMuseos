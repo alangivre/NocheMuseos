{
 "cells": [
  {
   "cell_type": "code",
   "execution_count": 30,
   "metadata": {},
   "outputs": [],
   "source": [
    "\n",
    "import tweepy\n",
    "from tweepy import StreamListener\n",
    "from tweepy import Stream\n",
    "import time\n",
    "import pandas as pd\n",
    "import json\n",
    "\n",
    "\n",
    "consumer_key = 'HcNQa8P7Ft9xBzdYRqa8enOvK'\n",
    "consumer_secret = 'PPfziRedYlOPIafdmjh9EoAqoXdHq2Zyd5IITGZYXBpr5EHJfN'\n",
    "access_token = '3177503505-wbBs4jZ0SbHKtfzZX0BARCIoAh5Pz5w5Oo4NnQe'\n",
    "access_token_secret = 'JNJViixybsP5UGuGqJXKVy2Ewbx4h60PJ8h53nLfkovIO'\n",
    "\n",
    "\n",
    "auth = tweepy.OAuthHandler(consumer_key, consumer_secret)\n",
    "auth.set_access_token(access_token, access_token_secret)\n",
    "\n",
    "api = tweepy.API(auth, wait_on_rate_limit=True)\n",
    "\n",
    "\n"
   ]
  },
  {
   "cell_type": "code",
   "execution_count": null,
   "metadata": {},
   "outputs": [],
   "source": [
    "'''class CustomStreamListener(StreamListener):\n",
    "\n",
    "    def on_status(self, status): \n",
    "        print( status.author.screen_name, status.created_at, status.text)\n",
    "        with open('file.txt', 'w') as f: \n",
    "                f.write('Author,Date,Text')\n",
    "                \n",
    "                f.write(str(status.author.screen_name)+str( status.created_at)+str( status.text))\n",
    "\n",
    "\n",
    "    def on_error(self, status_code):\n",
    "        print ( sys.stderr, 'Encountered error with status code:', status_code)\n",
    "        return True # Don't kill the stream\n",
    "\n",
    "    def on_timeout(self):\n",
    "        print ( sys.stderr, 'Timeout...')\n",
    "        return True # Don't kill the stream\n",
    "\n",
    "\n",
    "\n",
    "\n",
    "streamingAPI = tweepy.streaming.Stream(auth, CustomStreamListener())\n",
    "streamingAPI.filter(track=['NocheDeLosMuseos'])\n",
    "'''"
   ]
  },
  {
   "cell_type": "code",
   "execution_count": null,
   "metadata": {},
   "outputs": [],
   "source": [
    "Archivo=open('TweetsHastag.json', 'w')\n",
    "i=0\n",
    "for tweet in tweepy.Cursor(api.search,q=\"#NocheDeLosMuseos\",lang=\"es\").items(): \n",
    "    print(tweet.author.screen_name, tweet.created_at,tweet.text)\n",
    "    #Archivo.write(str(tweet.author.screen_name)+'//'+str( tweet.created_at)+'//'+str(tweet.text)+'\\n\\n')\n",
    "    data=[tweet.author.screen_name, tweet.created_at,tweet.text]\n",
    "    json.dump(data, Archivo)\n",
    "    i+=1\n",
    "print(i)"
   ]
  },
  {
   "cell_type": "code",
   "execution_count": null,
   "metadata": {},
   "outputs": [],
   "source": []
  }
 ],
 "metadata": {
  "kernelspec": {
   "display_name": "Python 3",
   "language": "python",
   "name": "python3"
  },
  "language_info": {
   "codemirror_mode": {
    "name": "ipython",
    "version": 3
   },
   "file_extension": ".py",
   "mimetype": "text/x-python",
   "name": "python",
   "nbconvert_exporter": "python",
   "pygments_lexer": "ipython3",
   "version": "3.5.2"
  }
 },
 "nbformat": 4,
 "nbformat_minor": 2
}
